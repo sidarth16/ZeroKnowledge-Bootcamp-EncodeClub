{
 "cells": [
  {
   "cell_type": "markdown",
   "metadata": {},
   "source": [
    "# Explanatory Analysis of ex7"
   ]
  },
  {
   "cell_type": "markdown",
   "metadata": {},
   "source": [
    "### ```N = '10101010000' ``` <br/>\n",
    "\n",
    "### Intial Step\n",
    "- Remove trailing zeroes: ```n = (n // (n&-n))```\n",
    "- n = '1010101'\n",
    "\n",
    "### LSB Checking Loop\n",
    "\n",
    "- ```before each LSB check```:\n",
    "   - if N == 1: \n",
    "      - return True \n",
    "      \n",
    "<br/>\n",
    "\n",
    "- ```Check_1``` ( N = '1010101' ) :\n",
    "   -  check for lsb :\n",
    "      - if ```lsb !=1``` => return False  <br/><br/>\n",
    "   - turning rightmost 1 to 0 (by xor 1) and remove it\n",
    "      -  N = (N xor 1) // 2  \n",
    "      -  N = '101010' <br/><br/>\n",
    "   -  call for check_0 ('101010') \n",
    "   \n",
    "<br/><br/>\n",
    "\n",
    "- ```Check_0``` ( N = '101010' ) :\n",
    "   -  check for lsb :\n",
    "      - if ```lsb !=0``` => return False  <br/><br/>\n",
    "   -  div '101010' by 2 (to remove the last zero)\n",
    "      - N = N // 2\n",
    "      -  N = '10101' <br/><br/>\n",
    "   -  call for check_1 ('10101)\n",
    "\n",
    "\n",
    "\n",
    "<br/><br/><br/>\n",
    "bitwise operation references : https://www.informit.com/articles/article.aspx?p=1959565\n",
    "\n"
   ]
  },
  {
   "cell_type": "code",
   "execution_count": 14,
   "metadata": {},
   "outputs": [
    {
     "name": "stdout",
     "output_type": "stream",
     "text": [
      "n:0b10101 check:0 : Remove trailing zeroes\n",
      "n:0b10101 check:1 : True\n",
      "n:0b1010 check:0 : True\n",
      "n:0b101 check:1 : True\n",
      "n:0b10 check:0 : True\n",
      "n:0b1 check:1 : True\n",
      "1\n"
     ]
    }
   ],
   "source": [
    "\n",
    "def pattern(n, ind, check=None):\n",
    "    # print(f'n:{bin(n)} check:{check} : {n==check}')\n",
    "    print(f'n:{bin(n)} check:{check}', end=' : ')\n",
    "    if n==0:\n",
    "        print('False')\n",
    "        return 0\n",
    "    if n==1:\n",
    "        print('True')\n",
    "        return 1\n",
    "    \n",
    "    if ind == 0:\n",
    "        n = n // ( n & -n)  #remove trailing zeroes\n",
    "        print(\"Remove trailing zeroes\")\n",
    "        result = pattern (n , ind+1, check=1)   \n",
    "    else:\n",
    "        if check == 1:\n",
    "            lsb = n & 1     #(bitwise and)\n",
    "            if (lsb != 1) :\n",
    "                print('False')\n",
    "                return 0\n",
    "\n",
    "            print('True')\n",
    "            n = n^1     #(bitwise xor) [converting last 1 -> 0]\n",
    "            n = n // 2  # removing last zero\n",
    "            result = pattern (n , ind+1, check=0)   \n",
    "\n",
    "        if check == 0 :\n",
    "            lsb = n & 1 #(bitwise and)\n",
    "            if (lsb !=0) :\n",
    "                print('False')\n",
    "                return 0\n",
    "            print('True')\n",
    "            n = n // 2 # removing last zero\n",
    "            result = pattern (n , ind+1, check=1)   \n",
    "\n",
    "    return result\n",
    "    \n",
    "\n",
    "print(pattern (int('010101',2), 0, 0)   )"
   ]
  },
  {
   "cell_type": "markdown",
   "metadata": {},
   "source": [
    "---"
   ]
  },
  {
   "cell_type": "markdown",
   "metadata": {},
   "source": [
    "# Optimised Verison of the Above :"
   ]
  },
  {
   "cell_type": "markdown",
   "metadata": {},
   "source": [
    "### ```N = '10101010000' ``` <br/>\n",
    "\n",
    "### Intial Step\n",
    "- Remove trailing zeroes: ```n = (n // (n&-n))```\n",
    "- n = '1010101'\n",
    "\n",
    "### LSB Checking Loop\n",
    "\n",
    "- pattern (N , check) :\n",
    "   <br/>\n",
    "\n",
    "   -  if N == 1: \n",
    "      - return True <br/><br/>\n",
    "      \n",
    "   -  check for lsb :\n",
    "        - if ```lsb !=check``` => return False  <br/><br/>\n",
    "        \n",
    "   <!-- - if check == 1\n",
    "        - change rightmost 1 to 0 (by xor 1)  <br/><br/> -->\n",
    "\n",
    "   -  N  = N // 2  <br/><br/>\n",
    "   -  call for pattern (N, check= N XOR 1) \n"
   ]
  },
  {
   "cell_type": "code",
   "execution_count": 10,
   "metadata": {},
   "outputs": [
    {
     "name": "stdout",
     "output_type": "stream",
     "text": [
      "n:0b101010101 check:0 : Remove trailing zeroes\n",
      "n:0b101010101 check:1 : True\n",
      "n:0b10101010 check:0 : True\n",
      "n:0b1010101 check:1 : True\n",
      "n:0b101010 check:0 : True\n",
      "n:0b10101 check:1 : True\n",
      "n:0b1010 check:0 : True\n",
      "n:0b101 check:1 : True\n",
      "n:0b10 check:0 : True\n",
      "n:0b1 check:1 : True\n",
      "1\n"
     ]
    }
   ],
   "source": [
    "\n",
    "def pattern(n, ind, check=None):\n",
    "    # print(f'n:{bin(n)} check:{check} : {n==check}')\n",
    "    print(f'n:{bin(n)} check:{check}', end=' : ')\n",
    "    if n==0:\n",
    "        print('False')\n",
    "        return 0\n",
    "    if n==1:\n",
    "        print('True')\n",
    "        return 1\n",
    "    \n",
    "    if ind == 0:\n",
    "        n = n // ( n & -n)  #remove trailing zeroes\n",
    "        print(\"Remove trailing zeroes\")\n",
    "        result = pattern (n , ind+1, check=1)   \n",
    "    else:\n",
    "        lsb = n & 1     # (bitwise and)\n",
    "        if (lsb != check) :\n",
    "            print('False')\n",
    "            return 0\n",
    "\n",
    "        print('True')\n",
    "\n",
    "        # if check == 1 :\n",
    "        #     n = n^1     # (bitwise xor) [converting last 1 -> 0]\n",
    "\n",
    "        n = n // 2  # removing last zero\n",
    "        result = pattern (n , ind+1, check= check^1)   \n",
    "\n",
    "    return result\n",
    "    \n",
    "\n",
    "print(pattern (int('00000101010101',2), 0, 0)   )"
   ]
  },
  {
   "cell_type": "code",
   "execution_count": 28,
   "metadata": {},
   "outputs": [
    {
     "data": {
      "text/plain": [
       "-10"
      ]
     },
     "execution_count": 28,
     "metadata": {},
     "output_type": "execute_result"
    }
   ],
   "source": [
    "x=10\n",
    "~x + 1"
   ]
  }
 ],
 "metadata": {
  "kernelspec": {
   "display_name": "Python 3.8.9 64-bit",
   "language": "python",
   "name": "python3"
  },
  "language_info": {
   "codemirror_mode": {
    "name": "ipython",
    "version": 3
   },
   "file_extension": ".py",
   "mimetype": "text/x-python",
   "name": "python",
   "nbconvert_exporter": "python",
   "pygments_lexer": "ipython3",
   "version": "3.8.9"
  },
  "orig_nbformat": 4,
  "vscode": {
   "interpreter": {
    "hash": "31f2aee4e71d21fbe5cf8b01ff0e069b9275f58929596ceb00d14d90e3e16cd6"
   }
  }
 },
 "nbformat": 4,
 "nbformat_minor": 2
}
